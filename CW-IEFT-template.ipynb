{
 "cells": [
  {
   "cell_type": "markdown",
   "metadata": {},
   "source": [
    "### COMSM0140: Internet Economics and Financial Technology 2023. Main coursework. \n",
    "### YOUR NAME HERE"
   ]
  },
  {
   "cell_type": "markdown",
   "metadata": {},
   "source": [
    "Begin your report here..."
   ]
  },
  {
   "cell_type": "code",
   "execution_count": 1,
   "metadata": {},
   "outputs": [],
   "source": [
    "# Some code...\n",
    "import matplotlib.pyplot as plt\n",
    "import numpy as np\n",
    "import csv\n",
    "import math\n",
    "import random\n",
    "\n",
    "from BSE import market_session\n",
    "\n",
    "def set_specs(R, n):\n",
    "    SHVR_num = (n*R)//100\n",
    "    zic_num = ((100-R)*n)//100\n",
    "    buyer_spec = [('SHVR', SHVR_num), ('ZIC', zic_num)]\n",
    "    seller_spec = [('SHVR', SHVR_num), ('ZIC', zic_num)]\n",
    "    trader_specs = {'sellers': seller_spec, 'buyers': buyer_spec}\n",
    "\n",
    "    return trader_specs"
   ]
  },
  {
   "cell_type": "code",
   "execution_count": 2,
   "metadata": {},
   "outputs": [],
   "source": [
    "def plot_trades(trial_id):\n",
    "    prices_fname = trial_id + '_tape.csv'\n",
    "    x = np.empty(0)\n",
    "    y = np.empty(0)\n",
    "    with open(prices_fname, newline='') as csvfile:\n",
    "        reader = csv.reader(csvfile)\n",
    "        for row in reader:\n",
    "            time = float(row[1])\n",
    "            price = float(row[2])\n",
    "            x = np.append(x,time)\n",
    "            y = np.append(y,price)\n",
    "\n",
    "    plt.xlabel('Time')\n",
    "    plt.ylabel('Trade Price')\n",
    "    plt.plot(x, y, 'x', color='black') \n",
    "    \n",
    "# Use this to run an experiment n times and plot all trades\n",
    "def n_runs_plot_trades(n, trial_id, start_time, end_time, traders_spec, order_sched):\n",
    "    x = np.empty(0)\n",
    "    y = np.empty(0)\n",
    "\n",
    "    for i in range(n):\n",
    "        trialId = trial_id + '_' + str(i)\n",
    "        tdump = open(trialId + '_avg_balance.csv','w')\n",
    "\n",
    "        market_session(trialId, start_time, end_time, traders_spec, order_sched, tdump, True, False)\n",
    "        \n",
    "        tdump.close()\n",
    "\n",
    "        with open(trialId + '_tape.csv', newline='') as csvfile:\n",
    "            reader = csv.reader(csvfile)\n",
    "            for row in reader:\n",
    "                time = float(row[1])\n",
    "                price = float(row[2])\n",
    "                x = np.append(x,time)\n",
    "                y = np.append(y,price)\n",
    "\n",
    "    plt.plot(x, y, 'x', color='black');\n",
    "\n",
    "# !!! Don't use on it's own   \n",
    "def getorderprice(i, sched, n, mode):\n",
    "    pmin = min(sched[0][0], sched[0][1])\n",
    "    pmax = max(sched[0][0], sched[0][1])\n",
    "    prange = pmax - pmin\n",
    "    stepsize = prange / (n - 1)\n",
    "    halfstep = round(stepsize / 2.0)\n",
    "\n",
    "    if mode == 'fixed':\n",
    "        orderprice = pmin + int(i * stepsize)\n",
    "    elif mode == 'jittered':\n",
    "        orderprice = pmin + int(i * stepsize) + random.randint(-halfstep, halfstep)\n",
    "    elif mode == 'random':\n",
    "        if len(sched) > 1:\n",
    "            # more than one schedule: choose one equiprobably\n",
    "            s = random.randint(0, len(sched) - 1)\n",
    "            pmin = min(sched[s][0], sched[s][1])\n",
    "            pmax = max(sched[s][0], sched[s][1])\n",
    "        orderprice = random.randint(pmin, pmax)\n",
    "    return orderprice    \n",
    "\n",
    "# !!! Don't use on it's own\n",
    "def make_supply_demand_plot(bids, asks):\n",
    "    # total volume up to current order\n",
    "    volS = 0\n",
    "    volB = 0\n",
    "\n",
    "    fig, ax = plt.subplots()\n",
    "    plt.ylabel('Price')\n",
    "    plt.xlabel('Quantity')\n",
    "    \n",
    "    pr = 0\n",
    "    for b in bids:\n",
    "        if pr != 0:\n",
    "            # vertical line\n",
    "            ax.plot([volB,volB], [pr,b], 'r-')\n",
    "        # horizontal lines\n",
    "        line, = ax.plot([volB,volB+1], [b,b], 'r-')\n",
    "        volB += 1\n",
    "        pr = b\n",
    "    if bids:\n",
    "        line.set_label('Demand')\n",
    "        \n",
    "    pr = 0\n",
    "    for s in asks:\n",
    "        if pr != 0:\n",
    "            # vertical line\n",
    "            ax.plot([volS,volS], [pr,s], 'b-')\n",
    "        # horizontal lines\n",
    "        line, = ax.plot([volS,volS+1], [s,s], 'b-')\n",
    "        volS += 1\n",
    "        pr = s\n",
    "    if asks:\n",
    "        line.set_label('Supply')\n",
    "        \n",
    "    if bids or asks:\n",
    "        plt.legend()\n",
    "    plt.show()\n",
    "\n",
    "# Use this to plot supply and demand curves from supply and demand ranges and stepmode\n",
    "def plot_sup_dem(seller_num, sup_ranges, buyer_num, dem_ranges, stepmode):\n",
    "    asks = []\n",
    "    for s in range(seller_num):\n",
    "        asks.append(getorderprice(s, sup_ranges, seller_num, stepmode))\n",
    "    asks.sort()\n",
    "    bids = []\n",
    "    for b in range(buyer_num):\n",
    "        bids.append(getorderprice(b, dem_ranges, buyer_num, stepmode))\n",
    "    bids.sort()\n",
    "    bids.reverse()\n",
    "    \n",
    "    make_supply_demand_plot(bids, asks) \n",
    "\n",
    "# plot sorted trades, useful is some situations - won't be used in this worksheet\n",
    "def in_order_plot(trial_id):\n",
    "    prices_fname = trial_id + '_tape.csv'\n",
    "    y = np.empty(0)\n",
    "    with open(prices_fname, newline='') as csvfile:\n",
    "        reader = csv.reader(csvfile)\n",
    "        for row in reader:\n",
    "            price = float(row[2])\n",
    "            y = np.append(y,price)\n",
    "    y = np.sort(y)\n",
    "    x = list(range(len(y)))\n",
    "\n",
    "    plt.plot(x, y, 'x', color='black')   \n",
    "\n",
    "# plot offset function\n",
    "def plot_offset_fn(offset_fn, total_time_seconds):   \n",
    "    x = list(range(total_time_seconds))\n",
    "    offsets = []\n",
    "    for i in range(total_time_seconds):\n",
    "        offsets.append(offset_fn(i))\n",
    "    plt.plot(x, offsets, 'x', color='black')  "
   ]
  },
  {
   "cell_type": "code",
   "execution_count": 6,
   "metadata": {},
   "outputs": [],
   "source": [
    "#market session\n",
    "trial_id = \"n50\"\n",
    "for _ in range(50):\n",
    "    trader_specs = set_specs(50, 20)\n",
    "    supply_range = (310, 310)\n",
    "    demand_range = (250, 490)\n",
    "    start_time = 0\n",
    "    end_time = 60 * 10\n",
    "    supply_schedule = [{'from': start_time, 'to': end_time, 'ranges': [supply_range], 'stepmode': 'fixed'}]\n",
    "    demand_schedule = [{'from': start_time, 'to': end_time, 'ranges': [demand_range], 'stepmode': 'fixed'}]\n",
    "    order_interval = 60\n",
    "    order_sched = {'sup': supply_schedule, 'dem': demand_schedule,\n",
    "                'interval': order_interval, 'timemode': 'periodic'}\n",
    "    dump_flags = {'dump_blotters': False, 'dump_lobs': False, 'dump_strats': False,\n",
    "                'dump_avgbals': True, 'dump_tape': False}\n",
    "\n",
    "    verbose = False\n",
    "    market_session(trial_id, start_time, end_time, trader_specs, order_sched, dump_flags, verbose)"
   ]
  },
  {
   "cell_type": "code",
   "execution_count": 7,
   "metadata": {},
   "outputs": [],
   "source": [
    "#market session\n",
    "trial_id = \"n500\"\n",
    "for _ in range(500):\n",
    "    trader_specs = set_specs(50, 20)\n",
    "    supply_range = (310, 310)\n",
    "    demand_range = (250, 490)\n",
    "    start_time = 0\n",
    "    end_time = 60 * 10\n",
    "    supply_schedule = [{'from': start_time, 'to': end_time, 'ranges': [supply_range], 'stepmode': 'fixed'}]\n",
    "    demand_schedule = [{'from': start_time, 'to': end_time, 'ranges': [demand_range], 'stepmode': 'fixed'}]\n",
    "    order_interval = 60\n",
    "    order_sched = {'sup': supply_schedule, 'dem': demand_schedule,\n",
    "                'interval': order_interval, 'timemode': 'periodic'}\n",
    "    dump_flags = {'dump_blotters': False, 'dump_lobs': False, 'dump_strats': False,\n",
    "                'dump_avgbals': True, 'dump_tape': False}\n",
    "\n",
    "    verbose = False\n",
    "    market_session(trial_id, start_time, end_time, trader_specs, order_sched, dump_flags, verbose)"
   ]
  },
  {
   "cell_type": "markdown",
   "metadata": {},
   "source": [
    "analyse total profit on n=50 between 2 traders"
   ]
  },
  {
   "cell_type": "code",
   "execution_count": 23,
   "metadata": {},
   "outputs": [
    {
     "ename": "FileNotFoundError",
     "evalue": "[Errno 2] No such file or directory: 'n_500_avg_balance.csv'",
     "output_type": "error",
     "traceback": [
      "\u001b[1;31m---------------------------------------------------------------------------\u001b[0m",
      "\u001b[1;31mFileNotFoundError\u001b[0m                         Traceback (most recent call last)",
      "\u001b[1;32mc:\\Users\\Radur\\OneDrive\\Documents\\GitHub\\ADL-CW\\fintech-CW\\CW-IEFT-template.ipynb Cell 8\u001b[0m line \u001b[0;36m6\n\u001b[0;32m      <a href='vscode-notebook-cell:/c%3A/Users/Radur/OneDrive/Documents/GitHub/ADL-CW/fintech-CW/CW-IEFT-template.ipynb#X14sZmlsZQ%3D%3D?line=2'>3</a>\u001b[0m df_n50 \u001b[39m=\u001b[39m pd\u001b[39m.\u001b[39mread_csv(\u001b[39m'\u001b[39m\u001b[39mn50_avg_balance.csv\u001b[39m\u001b[39m'\u001b[39m)\n\u001b[0;32m      <a href='vscode-notebook-cell:/c%3A/Users/Radur/OneDrive/Documents/GitHub/ADL-CW/fintech-CW/CW-IEFT-template.ipynb#X14sZmlsZQ%3D%3D?line=3'>4</a>\u001b[0m df_n50\u001b[39m.\u001b[39mcolumns \u001b[39m=\u001b[39m  [\u001b[39m'\u001b[39m\u001b[39mid\u001b[39m\u001b[39m'\u001b[39m, \u001b[39m'\u001b[39m\u001b[39mname\u001b[39m\u001b[39m'\u001b[39m, \u001b[39m'\u001b[39m\u001b[39mtime\u001b[39m\u001b[39m'\u001b[39m, \u001b[39m'\u001b[39m\u001b[39mcurr best bid\u001b[39m\u001b[39m'\u001b[39m, \u001b[39m'\u001b[39m\u001b[39mcurr best offer\u001b[39m\u001b[39m'\u001b[39m, \u001b[39m'\u001b[39m\u001b[39mtrader1\u001b[39m\u001b[39m'\u001b[39m, \u001b[39m'\u001b[39m\u001b[39mtotal profit1\u001b[39m\u001b[39m'\u001b[39m, \u001b[39m'\u001b[39m\u001b[39mno. 1\u001b[39m\u001b[39m'\u001b[39m, \u001b[39m'\u001b[39m\u001b[39mavg profit1\u001b[39m\u001b[39m'\u001b[39m, \u001b[39m'\u001b[39m\u001b[39mtrader2\u001b[39m\u001b[39m'\u001b[39m, \u001b[39m'\u001b[39m\u001b[39mtotal profit2\u001b[39m\u001b[39m'\u001b[39m, \u001b[39m'\u001b[39m\u001b[39mno. 2\u001b[39m\u001b[39m'\u001b[39m, \u001b[39m'\u001b[39m\u001b[39mavg profit2\u001b[39m\u001b[39m'\u001b[39m]\n\u001b[1;32m----> <a href='vscode-notebook-cell:/c%3A/Users/Radur/OneDrive/Documents/GitHub/ADL-CW/fintech-CW/CW-IEFT-template.ipynb#X14sZmlsZQ%3D%3D?line=5'>6</a>\u001b[0m df_n500 \u001b[39m=\u001b[39m pd\u001b[39m.\u001b[39;49mread_csv(\u001b[39m'\u001b[39;49m\u001b[39mn_500_avg_balance.csv\u001b[39;49m\u001b[39m'\u001b[39;49m)\n\u001b[0;32m      <a href='vscode-notebook-cell:/c%3A/Users/Radur/OneDrive/Documents/GitHub/ADL-CW/fintech-CW/CW-IEFT-template.ipynb#X14sZmlsZQ%3D%3D?line=6'>7</a>\u001b[0m df_n500\u001b[39m.\u001b[39mcolumns \u001b[39m=\u001b[39m df_n50\u001b[39m.\u001b[39mcolumns\n",
      "File \u001b[1;32mc:\\Users\\Radur\\AppData\\Local\\Programs\\Python\\Python311\\Lib\\site-packages\\pandas\\io\\parsers\\readers.py:948\u001b[0m, in \u001b[0;36mread_csv\u001b[1;34m(filepath_or_buffer, sep, delimiter, header, names, index_col, usecols, dtype, engine, converters, true_values, false_values, skipinitialspace, skiprows, skipfooter, nrows, na_values, keep_default_na, na_filter, verbose, skip_blank_lines, parse_dates, infer_datetime_format, keep_date_col, date_parser, date_format, dayfirst, cache_dates, iterator, chunksize, compression, thousands, decimal, lineterminator, quotechar, quoting, doublequote, escapechar, comment, encoding, encoding_errors, dialect, on_bad_lines, delim_whitespace, low_memory, memory_map, float_precision, storage_options, dtype_backend)\u001b[0m\n\u001b[0;32m    935\u001b[0m kwds_defaults \u001b[39m=\u001b[39m _refine_defaults_read(\n\u001b[0;32m    936\u001b[0m     dialect,\n\u001b[0;32m    937\u001b[0m     delimiter,\n\u001b[1;32m   (...)\u001b[0m\n\u001b[0;32m    944\u001b[0m     dtype_backend\u001b[39m=\u001b[39mdtype_backend,\n\u001b[0;32m    945\u001b[0m )\n\u001b[0;32m    946\u001b[0m kwds\u001b[39m.\u001b[39mupdate(kwds_defaults)\n\u001b[1;32m--> 948\u001b[0m \u001b[39mreturn\u001b[39;00m _read(filepath_or_buffer, kwds)\n",
      "File \u001b[1;32mc:\\Users\\Radur\\AppData\\Local\\Programs\\Python\\Python311\\Lib\\site-packages\\pandas\\io\\parsers\\readers.py:611\u001b[0m, in \u001b[0;36m_read\u001b[1;34m(filepath_or_buffer, kwds)\u001b[0m\n\u001b[0;32m    608\u001b[0m _validate_names(kwds\u001b[39m.\u001b[39mget(\u001b[39m\"\u001b[39m\u001b[39mnames\u001b[39m\u001b[39m\"\u001b[39m, \u001b[39mNone\u001b[39;00m))\n\u001b[0;32m    610\u001b[0m \u001b[39m# Create the parser.\u001b[39;00m\n\u001b[1;32m--> 611\u001b[0m parser \u001b[39m=\u001b[39m TextFileReader(filepath_or_buffer, \u001b[39m*\u001b[39;49m\u001b[39m*\u001b[39;49mkwds)\n\u001b[0;32m    613\u001b[0m \u001b[39mif\u001b[39;00m chunksize \u001b[39mor\u001b[39;00m iterator:\n\u001b[0;32m    614\u001b[0m     \u001b[39mreturn\u001b[39;00m parser\n",
      "File \u001b[1;32mc:\\Users\\Radur\\AppData\\Local\\Programs\\Python\\Python311\\Lib\\site-packages\\pandas\\io\\parsers\\readers.py:1448\u001b[0m, in \u001b[0;36mTextFileReader.__init__\u001b[1;34m(self, f, engine, **kwds)\u001b[0m\n\u001b[0;32m   1445\u001b[0m     \u001b[39mself\u001b[39m\u001b[39m.\u001b[39moptions[\u001b[39m\"\u001b[39m\u001b[39mhas_index_names\u001b[39m\u001b[39m\"\u001b[39m] \u001b[39m=\u001b[39m kwds[\u001b[39m\"\u001b[39m\u001b[39mhas_index_names\u001b[39m\u001b[39m\"\u001b[39m]\n\u001b[0;32m   1447\u001b[0m \u001b[39mself\u001b[39m\u001b[39m.\u001b[39mhandles: IOHandles \u001b[39m|\u001b[39m \u001b[39mNone\u001b[39;00m \u001b[39m=\u001b[39m \u001b[39mNone\u001b[39;00m\n\u001b[1;32m-> 1448\u001b[0m \u001b[39mself\u001b[39m\u001b[39m.\u001b[39m_engine \u001b[39m=\u001b[39m \u001b[39mself\u001b[39;49m\u001b[39m.\u001b[39;49m_make_engine(f, \u001b[39mself\u001b[39;49m\u001b[39m.\u001b[39;49mengine)\n",
      "File \u001b[1;32mc:\\Users\\Radur\\AppData\\Local\\Programs\\Python\\Python311\\Lib\\site-packages\\pandas\\io\\parsers\\readers.py:1705\u001b[0m, in \u001b[0;36mTextFileReader._make_engine\u001b[1;34m(self, f, engine)\u001b[0m\n\u001b[0;32m   1703\u001b[0m     \u001b[39mif\u001b[39;00m \u001b[39m\"\u001b[39m\u001b[39mb\u001b[39m\u001b[39m\"\u001b[39m \u001b[39mnot\u001b[39;00m \u001b[39min\u001b[39;00m mode:\n\u001b[0;32m   1704\u001b[0m         mode \u001b[39m+\u001b[39m\u001b[39m=\u001b[39m \u001b[39m\"\u001b[39m\u001b[39mb\u001b[39m\u001b[39m\"\u001b[39m\n\u001b[1;32m-> 1705\u001b[0m \u001b[39mself\u001b[39m\u001b[39m.\u001b[39mhandles \u001b[39m=\u001b[39m get_handle(\n\u001b[0;32m   1706\u001b[0m     f,\n\u001b[0;32m   1707\u001b[0m     mode,\n\u001b[0;32m   1708\u001b[0m     encoding\u001b[39m=\u001b[39;49m\u001b[39mself\u001b[39;49m\u001b[39m.\u001b[39;49moptions\u001b[39m.\u001b[39;49mget(\u001b[39m\"\u001b[39;49m\u001b[39mencoding\u001b[39;49m\u001b[39m\"\u001b[39;49m, \u001b[39mNone\u001b[39;49;00m),\n\u001b[0;32m   1709\u001b[0m     compression\u001b[39m=\u001b[39;49m\u001b[39mself\u001b[39;49m\u001b[39m.\u001b[39;49moptions\u001b[39m.\u001b[39;49mget(\u001b[39m\"\u001b[39;49m\u001b[39mcompression\u001b[39;49m\u001b[39m\"\u001b[39;49m, \u001b[39mNone\u001b[39;49;00m),\n\u001b[0;32m   1710\u001b[0m     memory_map\u001b[39m=\u001b[39;49m\u001b[39mself\u001b[39;49m\u001b[39m.\u001b[39;49moptions\u001b[39m.\u001b[39;49mget(\u001b[39m\"\u001b[39;49m\u001b[39mmemory_map\u001b[39;49m\u001b[39m\"\u001b[39;49m, \u001b[39mFalse\u001b[39;49;00m),\n\u001b[0;32m   1711\u001b[0m     is_text\u001b[39m=\u001b[39;49mis_text,\n\u001b[0;32m   1712\u001b[0m     errors\u001b[39m=\u001b[39;49m\u001b[39mself\u001b[39;49m\u001b[39m.\u001b[39;49moptions\u001b[39m.\u001b[39;49mget(\u001b[39m\"\u001b[39;49m\u001b[39mencoding_errors\u001b[39;49m\u001b[39m\"\u001b[39;49m, \u001b[39m\"\u001b[39;49m\u001b[39mstrict\u001b[39;49m\u001b[39m\"\u001b[39;49m),\n\u001b[0;32m   1713\u001b[0m     storage_options\u001b[39m=\u001b[39;49m\u001b[39mself\u001b[39;49m\u001b[39m.\u001b[39;49moptions\u001b[39m.\u001b[39;49mget(\u001b[39m\"\u001b[39;49m\u001b[39mstorage_options\u001b[39;49m\u001b[39m\"\u001b[39;49m, \u001b[39mNone\u001b[39;49;00m),\n\u001b[0;32m   1714\u001b[0m )\n\u001b[0;32m   1715\u001b[0m \u001b[39massert\u001b[39;00m \u001b[39mself\u001b[39m\u001b[39m.\u001b[39mhandles \u001b[39mis\u001b[39;00m \u001b[39mnot\u001b[39;00m \u001b[39mNone\u001b[39;00m\n\u001b[0;32m   1716\u001b[0m f \u001b[39m=\u001b[39m \u001b[39mself\u001b[39m\u001b[39m.\u001b[39mhandles\u001b[39m.\u001b[39mhandle\n",
      "File \u001b[1;32mc:\\Users\\Radur\\AppData\\Local\\Programs\\Python\\Python311\\Lib\\site-packages\\pandas\\io\\common.py:863\u001b[0m, in \u001b[0;36mget_handle\u001b[1;34m(path_or_buf, mode, encoding, compression, memory_map, is_text, errors, storage_options)\u001b[0m\n\u001b[0;32m    858\u001b[0m \u001b[39melif\u001b[39;00m \u001b[39misinstance\u001b[39m(handle, \u001b[39mstr\u001b[39m):\n\u001b[0;32m    859\u001b[0m     \u001b[39m# Check whether the filename is to be opened in binary mode.\u001b[39;00m\n\u001b[0;32m    860\u001b[0m     \u001b[39m# Binary mode does not support 'encoding' and 'newline'.\u001b[39;00m\n\u001b[0;32m    861\u001b[0m     \u001b[39mif\u001b[39;00m ioargs\u001b[39m.\u001b[39mencoding \u001b[39mand\u001b[39;00m \u001b[39m\"\u001b[39m\u001b[39mb\u001b[39m\u001b[39m\"\u001b[39m \u001b[39mnot\u001b[39;00m \u001b[39min\u001b[39;00m ioargs\u001b[39m.\u001b[39mmode:\n\u001b[0;32m    862\u001b[0m         \u001b[39m# Encoding\u001b[39;00m\n\u001b[1;32m--> 863\u001b[0m         handle \u001b[39m=\u001b[39m \u001b[39mopen\u001b[39m(\n\u001b[0;32m    864\u001b[0m             handle,\n\u001b[0;32m    865\u001b[0m             ioargs\u001b[39m.\u001b[39mmode,\n\u001b[0;32m    866\u001b[0m             encoding\u001b[39m=\u001b[39mioargs\u001b[39m.\u001b[39mencoding,\n\u001b[0;32m    867\u001b[0m             errors\u001b[39m=\u001b[39merrors,\n\u001b[0;32m    868\u001b[0m             newline\u001b[39m=\u001b[39m\u001b[39m\"\u001b[39m\u001b[39m\"\u001b[39m,\n\u001b[0;32m    869\u001b[0m         )\n\u001b[0;32m    870\u001b[0m     \u001b[39melse\u001b[39;00m:\n\u001b[0;32m    871\u001b[0m         \u001b[39m# Binary mode\u001b[39;00m\n\u001b[0;32m    872\u001b[0m         handle \u001b[39m=\u001b[39m \u001b[39mopen\u001b[39m(handle, ioargs\u001b[39m.\u001b[39mmode)\n",
      "\u001b[1;31mFileNotFoundError\u001b[0m: [Errno 2] No such file or directory: 'n_500_avg_balance.csv'"
     ]
    }
   ],
   "source": [
    "import pandas as pd\n",
    "\n",
    "df_n50 = pd.read_csv('n50_avg_balance.csv')\n",
    "df_n50.columns =  ['id', 'name', 'time', 'curr best bid', 'curr best offer', 'trader1', 'total profit1', 'no. 1', 'avg profit1', 'trader2', 'total profit2', 'no. 2', 'avg profit2']\n",
    "\n",
    "df_n500 = pd.read_csv('n500_avg_balance.csv')\n",
    "df_n500.columns = df_n50.columns"
   ]
  },
  {
   "cell_type": "markdown",
   "metadata": {},
   "source": [
    "Some text..."
   ]
  },
  {
   "cell_type": "markdown",
   "metadata": {},
   "source": [
    "END OF REPORT. ONLY WORD COUNT BELOW THIS POINT. "
   ]
  },
  {
   "cell_type": "code",
   "execution_count": 4,
   "metadata": {},
   "outputs": [
    {
     "name": "stderr",
     "output_type": "stream",
     "text": [
      "C:\\Users\\Radur\\AppData\\Local\\Temp\\ipykernel_9648\\1902107979.py:3: DeprecationWarning: nbformat.current is deprecated since before nbformat 3.0\n",
      "\n",
      "- use nbformat for read/write/validate public API\n",
      "- use nbformat.vX directly to composing notebooks of a particular version\n",
      "\n",
      "  from nbformat import current\n"
     ]
    }
   ],
   "source": [
    "# Do not edit this code. It will print the word count of your notebook.\n",
    "import io\n",
    "from nbformat import current\n",
    "\n",
    "def printWordCount(filepath):\n",
    "\n",
    "    with io.open(filepath, 'r', encoding='utf-8') as f:\n",
    "        nb = current.read(f, 'json')\n",
    "\n",
    "    word_count = 0\n",
    "    for cell in nb.worksheets[0].cells:\n",
    "        if cell.cell_type == \"markdown\":\n",
    "            word_count += len(cell['source'].replace('#', '').lstrip().split(' '))\n",
    "    print(\"Word count: \" + str(word_count) + \". Limit is 2000 words.\")"
   ]
  },
  {
   "cell_type": "code",
   "execution_count": 5,
   "metadata": {},
   "outputs": [
    {
     "name": "stdout",
     "output_type": "stream",
     "text": [
      "Word count: 29. Limit is 2000 words.\n"
     ]
    }
   ],
   "source": [
    "# This should be the final output of your notebook.\n",
    "# Edit filename to be the same as this filename and then run.\n",
    "# Save your file before running this code.\n",
    "\n",
    "this_file_name = \"CW-IEFT-template.ipynb\" # Enter name of this file here\n",
    "printWordCount(this_file_name)"
   ]
  }
 ],
 "metadata": {
  "kernelspec": {
   "display_name": "Python 3",
   "language": "python",
   "name": "python3"
  },
  "language_info": {
   "codemirror_mode": {
    "name": "ipython",
    "version": 3
   },
   "file_extension": ".py",
   "mimetype": "text/x-python",
   "name": "python",
   "nbconvert_exporter": "python",
   "pygments_lexer": "ipython3",
   "version": "3.11.4"
  }
 },
 "nbformat": 4,
 "nbformat_minor": 2
}
