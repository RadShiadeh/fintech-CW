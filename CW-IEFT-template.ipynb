{
 "cells": [
  {
   "cell_type": "markdown",
   "metadata": {},
   "source": [
    "### COMSM0140: Internet Economics and Financial Technology 2023. Main coursework. \n",
    "### Radmehr Ghassabtabarshiadeh"
   ]
  },
  {
   "cell_type": "markdown",
   "metadata": {},
   "source": [
    "Begin your report here..."
   ]
  },
  {
   "cell_type": "markdown",
   "metadata": {},
   "source": [
    "A/B testing to determine whether SHVR or ZIP traders perform better using BSE market sessions simulation. Test the null hypothesis that there is no signifacnt difference between the two traders and the alternative hypothesis of there being a signifacnt difference between the two traders with the significance value set to 0.05. A market session will run with the specification mentioned on the brief. start time and end time are set to 0 and 600 respectively. After the simulation are complete, two data frames are created, one with everything the \"dump_avgbals\" creates and another only taking in the average profit of each trader at a time step. To test the hypothesis, a \"T test\" was used, this test allows to see whether the observed differences are statistically significant. Some helper functions are below to help do what was described. The functions \"make_df\" and \"ttest\" are helper functions for \"run_market_sim\" which create a dataframe and conduct t-test for each market session. the p value is then added to an array and the average of it returned."
   ]
  },
  {
   "cell_type": "code",
   "execution_count": 124,
   "metadata": {},
   "outputs": [],
   "source": [
    "# Some code...\n",
    "import matplotlib.pyplot as plt\n",
    "import numpy as np\n",
    "import csv\n",
    "import math\n",
    "import random\n",
    "from scipy import stats\n",
    "import pandas as pd\n",
    "import seaborn as sns \n",
    "\n",
    "from BSE import market_session\n",
    "\n",
    "def make_df(path: str):\n",
    "    df = pd.read_csv(path)\n",
    "    df.columns =  ['name', 'time', 'curr best bid', 'curr best offer', 'trader1', 'total profit1', 'no. 1', 'avg profit1', 'trader2', 'total profit2', 'no. 2', 'avg profit2', 'err']\n",
    "    df_profit = df[['avg profit1', 'avg profit2']]\n",
    "    df_profit.columns = ['SHVR', 'ZIP']\n",
    "    return df, df_profit\n",
    "\n",
    "def ttest(df):\n",
    "    zip_avg = df['ZIP']\n",
    "    shvr_avg = df['SHVR']\n",
    "        \n",
    "    t_statistic, p_value = stats.ttest_ind(zip_avg, shvr_avg)\n",
    "    return t_statistic, p_value\n",
    "\n",
    "def run_market_sim(trial_id, no_sessions, R, n, supply_range, demand_range, start_time, end_time, path):\n",
    "\n",
    "    SHVR_num = (n*R)//100\n",
    "    zic_num = ((100-R)*n)//100\n",
    "    buyer_spec = [('SHVR', SHVR_num), ('ZIC', zic_num)]\n",
    "    seller_spec = [('SHVR', SHVR_num), ('ZIC', zic_num)]\n",
    "    trader_specs = {'sellers': seller_spec, 'buyers': buyer_spec}\n",
    "    p_val = []\n",
    "\n",
    "    trial_id = trial_id\n",
    "    for _ in range(no_sessions):\n",
    "        supply_schedule = [{'from': start_time, 'to': end_time, 'ranges': [supply_range], 'stepmode': 'fixed'}]\n",
    "        demand_schedule = [{'from': start_time, 'to': end_time, 'ranges': [demand_range], 'stepmode': 'fixed'}]\n",
    "        order_interval = 60\n",
    "        order_sched = {'sup': supply_schedule, 'dem': demand_schedule,\n",
    "                    'interval': order_interval, 'timemode': 'periodic'}\n",
    "        dump_flags = {'dump_blotters': False, 'dump_lobs': False, 'dump_strats': False,\n",
    "                    'dump_avgbals': True, 'dump_tape': False}\n",
    "\n",
    "        verbose = False\n",
    "        market_session(trial_id, start_time, end_time, trader_specs, order_sched, dump_flags, verbose)\n",
    "        _, df_profit = make_df(path)\n",
    "        _, p_value = ttest(df_profit)\n",
    "        p_val.append(p_value)\n",
    "    \n",
    "    return np.mean(p_val)"
   ]
  },
  {
   "cell_type": "code",
   "execution_count": 126,
   "metadata": {},
   "outputs": [],
   "source": [
    "n50P_avg = run_market_sim(trial_id=\"n500\", no_sessions=500, R=50, n=20, supply_range=(310, 310), demand_range=(250, 490), start_time=0, end_time=60*10, path='n500_avg_balance.csv')\n",
    "n500P_avg = run_market_sim(trial_id=\"n50\", no_sessions=50, R=50, n=20, supply_range=(310, 310), demand_range=(250, 490), start_time=0, end_time=60*10, path='n50_avg_balance.csv')\n",
    "print(n50P_avg, n500P_avg)"
   ]
  },
  {
   "cell_type": "code",
   "execution_count": null,
   "metadata": {},
   "outputs": [],
   "source": [
    "_, df50 = make_df('n50_avg_balance.csv')\n",
    "_, df500 = make_df('n500_avg_balance.csv')\n",
    "plot_500 = sns.kdeplot(data=df500, fill=True)\n",
    "plt.show()\n",
    "plot_50 = sns.kdeplot(data=df50, fill=True)"
   ]
  },
  {
   "cell_type": "markdown",
   "metadata": {},
   "source": [
    "Seaborn library is used to visualise the data frame to determine wheteher the average profit is normaly distributed or not. As the output show, the data is somewhat normally distributed and can be passed for T-test. Data also demonstrates that ZIP traders perform better when there are less market simulation has happened as they have higher profit but as the number of sessions increase it is observed that SHVR trader perform slightly better.\n",
    "\n",
    "The average P-value for both market sessions are above the threshold of 0.05 suggesting that there is not enough evidence to reject the null hypothesis. After looking at the data it is observed that the Zip traders does give higher average profit per trade. The results suggest that the profablity of the two are statistically indistinguishable, however from the visualisation it is clear that shvr traders have higher profit."
   ]
  },
  {
   "cell_type": "markdown",
   "metadata": {},
   "source": [
    "END OF REPORT. ONLY WORD COUNT BELOW THIS POINT. "
   ]
  },
  {
   "cell_type": "code",
   "execution_count": null,
   "metadata": {},
   "outputs": [],
   "source": [
    "# Do not edit this code. It will print the word count of your notebook.\n",
    "import io\n",
    "from nbformat import current\n",
    "\n",
    "def printWordCount(filepath):\n",
    "\n",
    "    with io.open(filepath, 'r', encoding='utf-8') as f:\n",
    "        nb = current.read(f, 'json')\n",
    "\n",
    "    word_count = 0\n",
    "    for cell in nb.worksheets[0].cells:\n",
    "        if cell.cell_type == \"markdown\":\n",
    "            word_count += len(cell['source'].replace('#', '').lstrip().split(' '))\n",
    "    print(\"Word count: \" + str(word_count) + \". Limit is 2000 words.\")"
   ]
  },
  {
   "cell_type": "code",
   "execution_count": null,
   "metadata": {},
   "outputs": [
    {
     "name": "stdout",
     "output_type": "stream",
     "text": [
      "Word count: 295. Limit is 2000 words.\n"
     ]
    }
   ],
   "source": [
    "# This should be the final output of your notebook.\n",
    "# Edit filename to be the same as this filename and then run.\n",
    "# Save your file before running this code.\n",
    "\n",
    "this_file_name = \"CW-IEFT-template.ipynb\" # Enter name of this file here\n",
    "printWordCount(this_file_name)"
   ]
  }
 ],
 "metadata": {
  "kernelspec": {
   "display_name": "Python 3",
   "language": "python",
   "name": "python3"
  },
  "language_info": {
   "codemirror_mode": {
    "name": "ipython",
    "version": 3
   },
   "file_extension": ".py",
   "mimetype": "text/x-python",
   "name": "python",
   "nbconvert_exporter": "python",
   "pygments_lexer": "ipython3",
   "version": "3.11.4"
  }
 },
 "nbformat": 4,
 "nbformat_minor": 2
}
